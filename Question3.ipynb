{
 "cells": [
  {
   "cell_type": "code",
   "execution_count": 1,
   "metadata": {},
   "outputs": [],
   "source": [
    "import numpy as np\n",
    "import random as rd\n",
    "import matplotlib.pyplot as plt"
   ]
  },
  {
   "cell_type": "code",
   "execution_count": 13,
   "metadata": {},
   "outputs": [],
   "source": [
    "# input parameters\n",
    "fixed_cost = 30000\n",
    "var_cost_min = 16\n",
    "var_cost_max = 24\n",
    "selling_price = 50\n",
    "demand_mean = 1200\n",
    "demand_std = 300\n",
    "trials = 10000"
   ]
  },
  {
   "cell_type": "code",
   "execution_count": 14,
   "metadata": {},
   "outputs": [],
   "source": [
    "# simulation trials\n",
    "rd.seed(101010)\n",
    "sample = list()\n",
    "for i in range (trials):\n",
    "    var_cost = rd.uniform(var_cost_min, var_cost_max)\n",
    "    demand = rd.normalvariate(demand_mean, demand_std)\n",
    "    total_revenue = demand*selling_price\n",
    "    total_cost = demand*var_cost + fixed_cost\n",
    "    profit = total_revenue - total_cost\n",
    "    sample.append(profit)\n",
    "    "
   ]
  },
  {
   "cell_type": "code",
   "execution_count": 15,
   "metadata": {},
   "outputs": [
    {
     "data": {
      "text/plain": [
       "(array([  40.,  199.,  883., 1928., 2690., 2330., 1271.,  493.,  131.,\n",
       "          35.]),\n",
       " array([-24712.17430979, -18248.67212402, -11785.16993825,  -5321.66775248,\n",
       "          1141.83443329,   7605.33661906,  14068.83880483,  20532.3409906 ,\n",
       "         26995.84317637,  33459.34536214,  39922.84754791]),\n",
       " <a list of 10 Patch objects>)"
      ]
     },
     "execution_count": 15,
     "metadata": {},
     "output_type": "execute_result"
    },
    {
     "data": {
      "image/png": "[encoded data removed]",
      "text/plain": [
       "<Figure size 432x288 with 1 Axes>"
      ]
     },
     "metadata": {
      "needs_background": "light"
     },
     "output_type": "display_data"
    }
   ],
   "source": [
    "# problem a\n",
    "plt.hist(sample, edgecolor = 'k')"
   ]
  },
  {
   "cell_type": "code",
   "execution_count": 16,
   "metadata": {},
   "outputs": [
    {
     "name": "stdout",
     "output_type": "stream",
     "text": [
      "The estimate of mean profit is $6003.66\n"
     ]
    }
   ],
   "source": [
    "# Find the estimate of mean profit\n",
    "sample_mean = np.mean(sample)\n",
    "print('The estimate of mean profit is $%5.2f' % sample_mean)"
   ]
  },
  {
   "cell_type": "code",
   "execution_count": 10,
   "metadata": {},
   "outputs": [
    {
     "name": "stdout",
     "output_type": "stream",
     "text": [
      "Margin of error = 184.47\n",
      "Lower confidence interval = 5819.18\n",
      "Upper confidence interval = 6188.13\n",
      "The 95% confidence interval for the sample mean is (5819.18, 6188.13)\n"
     ]
    }
   ],
   "source": [
    "# Find the 95% confidence interval for the sample mean\n",
    "sample_std = np.std(sample)\n",
    "moe = 1.96*sample_std/len(sample)**0.5\n",
    "lci = sample_mean - moe\n",
    "uci = sample_mean + moe\n",
    "print('Margin of error = %5.2f'% moe)\n",
    "print('Lower confidence interval = %5.2f'% lci)\n",
    "print('Upper confidence interval = %5.2f'% uci)\n",
    "print('The 95%% confidence interval for the sample mean is (%6.2f, %6.2f)'% (lci,uci))"
   ]
  },
  {
   "cell_type": "code",
   "execution_count": 11,
   "metadata": {},
   "outputs": [
    {
     "name": "stdout",
     "output_type": "stream",
     "text": [
      "There is a 26.26% chance of incurring a loss on the order.\n"
     ]
    }
   ],
   "source": [
    "# problem b\n",
    "# Find the probability or % of chance the company will incur a loss\n",
    "proportion = sum(1 for x in sample if x < 0.0)/len(sample)\n",
    "print('There is a %5.2f%% chance of incurring a loss on the order.'% (100*proportion))"
   ]
  },
  {
   "cell_type": "code",
   "execution_count": 12,
   "metadata": {},
   "outputs": [
    {
     "name": "stdout",
     "output_type": "stream",
     "text": [
      "Lower confidence interval =  0.26%\n",
      "Upper confidence interval =  0.27%\n"
     ]
    }
   ],
   "source": [
    "# Find 90% confidence interval for the probability the company will incur a loss \n",
    "moe = 1.645*(proportion *(1 - proportion)/len(sample)**0.5)\n",
    "lci = proportion - moe\n",
    "uci = proportion + moe\n",
    "print('Lower confidence interval = %5.2f%%'% lci)\n",
    "print('Upper confidence interval = %5.2f%%'% uci)"
   ]
  },
  {
   "cell_type": "code",
   "execution_count": null,
   "metadata": {},
   "outputs": [],
   "source": []
  }
 ],
 "metadata": {
  "kernelspec": {
   "display_name": "Python 3",
   "language": "python",
   "name": "python3"
  },
  "language_info": {
   "codemirror_mode": {
    "name": "ipython",
    "version": 3
   },
   "file_extension": ".py",
   "mimetype": "text/x-python",
   "name": "python",
   "nbconvert_exporter": "python",
   "pygments_lexer": "ipython3",
   "version": "3.8.3"
  }
 },
 "nbformat": 4,
 "nbformat_minor": 2
}
