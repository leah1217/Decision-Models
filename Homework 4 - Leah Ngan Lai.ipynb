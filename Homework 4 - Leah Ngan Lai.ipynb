{
 "cells": [
  {
   "cell_type": "code",
   "execution_count": 1,
   "metadata": {},
   "outputs": [],
   "source": [
    "## Problem1\n",
    "import random as rd\n",
    "import numpy as np\n",
    "import matplotlib.pyplot as plt"
   ]
  },
  {
   "cell_type": "code",
   "execution_count": 2,
   "metadata": {},
   "outputs": [],
   "source": [
    "#input parameters\n",
    "price = 75\n",
    "cost = 50\n",
    "salvage = 15\n",
    "demand_mean = 500\n",
    "demand_std = 75\n",
    "order = 550"
   ]
  },
  {
   "cell_type": "code",
   "execution_count": 3,
   "metadata": {},
   "outputs": [
    {
     "name": "stdout",
     "output_type": "stream",
     "text": [
      "450 100 33750 1500 27500 7750\n"
     ]
    }
   ],
   "source": [
    "#base case model\n",
    "demand = 450 #we assume this number for demand\n",
    "if demand < order: qty_sold = demand\n",
    "else: qty_sold = order\n",
    "qty_left = order - qty_sold\n",
    "sales_revenue = price * qty_sold\n",
    "salvage_revenue = salvage * qty_left\n",
    "total_cost = cost * order\n",
    "profit = sales_revenue + salvage_revenue - total_cost\n",
    "print(qty_sold, qty_left, sales_revenue, salvage_revenue, total_cost, profit)"
   ]
  },
  {
   "cell_type": "code",
   "execution_count": 14,
   "metadata": {},
   "outputs": [
    {
     "data": {
      "image/png": "[encoded data removed]",
      "text/plain": [
       "<Figure size 432x288 with 1 Axes>"
      ]
     },
     "metadata": {
      "needs_background": "light"
     },
     "output_type": "display_data"
    }
   ],
   "source": [
    "#simulation trials\n",
    "rd.seed(101010)\n",
    "trials = 10000\n",
    "sample = list()\n",
    "for i in range(trials):\n",
    "    demand = rd.normalvariate(demand_mean, demand_std)\n",
    "    if demand < order: qty_sold = demand \n",
    "    else: qty_sold = order\n",
    "    qty_left = order - qty_sold\n",
    "    sales_revenue = price * qty_sold\n",
    "    salavage_revenue = salvage * qty_left\n",
    "    total_cost = cost * order\n",
    "    profit = sales_revenue + salvage_revenue - total_cost\n",
    "    sample.append(profit)\n",
    "    \n",
    "(a,b,c) = plt.hist(sample, edgecolor='k')"
   ]
  },
  {
   "cell_type": "code",
   "execution_count": 15,
   "metadata": {},
   "outputs": [
    {
     "name": "stdout",
     "output_type": "stream",
     "text": [
      "Mean = $5847.00\n"
     ]
    }
   ],
   "source": [
    "mean = sum(sample)/len(sample)\n",
    "print('Mean = $%5.2f' % (sum(sample)/len(sample)))"
   ]
  },
  {
   "cell_type": "code",
   "execution_count": 16,
   "metadata": {},
   "outputs": [
    {
     "name": "stdout",
     "output_type": "stream",
     "text": [
      "There is a  0.03% chance of incurring a loss on the order.\n"
     ]
    }
   ],
   "source": [
    "proportion = sum(1 for x in sample if x < 0.0)/len(sample)\n",
    "print('There is a %5.2f%% chance of incurring a loss on the order.'% (100*proportion))"
   ]
  },
  {
   "cell_type": "code",
   "execution_count": 17,
   "metadata": {},
   "outputs": [
    {
     "name": "stdout",
     "output_type": "stream",
     "text": [
      "[7386.929190700043, 7386.929190700043, 4915.726197921041, 4101.562651145377, 7386.929190700043, 7386.929190700043, 5751.100873017233, 3157.4141023295533, 6231.695418680095, 4359.785598103787]\n"
     ]
    }
   ],
   "source": [
    "print(sample[0:10])"
   ]
  },
  {
   "cell_type": "code",
   "execution_count": 20,
   "metadata": {},
   "outputs": [],
   "source": [
    "# part(d)\n",
    "order_1st = list(range(300,801))\n",
    "mean_profit_1st = list()\n",
    "for order in order_1st:\n",
    "    trials = 10000\n",
    "    sample = list()\n",
    "    for i in range(trials):\n",
    "        demand = rd.normalvariate(demand_mean, demand_std)\n",
    "        if demand < order: qty_sold = demand \n",
    "        else: qty_sold = order\n",
    "        qty_left = order - qty_sold\n",
    "        sales_revenue = price * qty_sold\n",
    "        salavage_revenue = salvage * qty_left\n",
    "        total_cost = cost * order\n",
    "        profit = sales_revenue + salvage_revenue - total_cost\n",
    "        sample.append(profit)\n",
    "    mean_profit = sum(sample)/len(sample)\n",
    "    mean_profit_1st.append(mean_profit)\n"
   ]
  },
  {
   "cell_type": "code",
   "execution_count": 21,
   "metadata": {},
   "outputs": [
    {
     "data": {
      "text/plain": [
       "[<matplotlib.lines.Line2D at 0x7ff819444640>]"
      ]
     },
     "execution_count": 21,
     "metadata": {},
     "output_type": "execute_result"
    },
    {
     "data": {
      "image/png": "[encoded data removed]",
      "text/plain": [
       "<Figure size 432x288 with 1 Axes>"
      ]
     },
     "metadata": {
      "needs_background": "light"
     },
     "output_type": "display_data"
    }
   ],
   "source": [
    "plt.plot(order_1st, mean_profit_1st)"
   ]
  },
  {
   "cell_type": "code",
   "execution_count": 22,
   "metadata": {},
   "outputs": [
    {
     "name": "stdout",
     "output_type": "stream",
     "text": [
      "The optimal order quantity is 484.\n",
      "The expected profit is $ 6132.86.\n"
     ]
    }
   ],
   "source": [
    "print('The optimal order quantity is %d.' % (order_1st[mean_profit_1st.index(max(mean_profit_1st))]))\n",
    "print('The expected profit is $%8.2f.'% (max(mean_profit_1st)))"
   ]
  },
  {
   "cell_type": "code",
   "execution_count": 11,
   "metadata": {},
   "outputs": [],
   "source": [
    "##Question 2\n",
    "\n",
    "#input parameters\n",
    "price_min = 18.95\n",
    "price_max = 26.95\n",
    "price_mode = 24.95\n",
    "cost_min = 12.00\n",
    "cost_max = 15.00\n",
    "intercept = 10000.00\n",
    "slope = -250.00\n",
    "rand_term_mean = 0.00\n",
    "rand_term_std = 10.00\n",
    "fixed_cost_mean = 30000\n",
    "fixed_cost_std = 5000"
   ]
  },
  {
   "cell_type": "code",
   "execution_count": 12,
   "metadata": {},
   "outputs": [
    {
     "name": "stdout",
     "output_type": "stream",
     "text": [
      "3752.5 12966.125\n"
     ]
    }
   ],
   "source": [
    "#base case model\n",
    "price = 24.95\n",
    "cost = 13.50\n",
    "rand_term = -10.00\n",
    "quantity_sold = intercept + slope*price + rand_term\n",
    "fixed_cost = 30000\n",
    "profit = (price-cost)*quantity_sold - fixed_cost\n",
    "print(quantity_sold, profit)"
   ]
  },
  {
   "cell_type": "code",
   "execution_count": 23,
   "metadata": {},
   "outputs": [
    {
     "data": {
      "text/plain": [
       "(array([  25.,  128.,  491., 1466., 2606., 2845., 1735.,  607.,   91.,\n",
       "           6.]),\n",
       " array([-1.54982233e+04, -1.03225584e+04, -5.14689343e+03,  2.87714929e+01,\n",
       "         5.20443642e+03,  1.03801013e+04,  1.55557663e+04,  2.07314312e+04,\n",
       "         2.59070961e+04,  3.10827611e+04,  3.62584260e+04]),\n",
       " <a list of 10 Patch objects>)"
      ]
     },
     "execution_count": 23,
     "metadata": {},
     "output_type": "execute_result"
    },
    {
     "data": {
      "image/png": "[encoded data removed]",
      "text/plain": [
       "<Figure size 432x288 with 1 Axes>"
      ]
     },
     "metadata": {
      "needs_background": "light"
     },
     "output_type": "display_data"
    }
   ],
   "source": [
    "#simulation\n",
    "trials = 10000\n",
    "sample = list()\n",
    "for i in range(trials):\n",
    "    price = rd.triangular(price_min, price_max, price_mode)\n",
    "    cost = rd.uniform(cost_min, cost_max)\n",
    "    rand_term = rd.normalvariate(rand_term_mean, rand_term_std)\n",
    "    quantity_sold = intercept + slope*price + rand_term\n",
    "    fixed_cost = rd.normalvariate(fixed_cost_mean, fixed_cost_std)\n",
    "    profit = (price - cost) * quantity_sold - fixed_cost\n",
    "    sample.append(profit)\n",
    "plt.hist(sample, edgecolor =\"k\")"
   ]
  },
  {
   "cell_type": "code",
   "execution_count": 8,
   "metadata": {},
   "outputs": [
    {
     "name": "stdout",
     "output_type": "stream",
     "text": [
      "The expected mean profit is $10728.00\n",
      "The probability of incurring a lost is  6.30%\n",
      "The maximum lost is $-13665.72.\n"
     ]
    }
   ],
   "source": [
    "print('The expected mean profit is $%8.2f' % (sum(sample)/len(sample)))\n",
    "proportion = sum(1 for x in sample if x < 0.0)/len(sample)\n",
    "print('The probability of incurring a lost is %5.2f%%' % (100*proportion))\n",
    "print('The maximum lost is $%5.2f.' % (min(sample)))"
   ]
  },
  {
   "cell_type": "code",
   "execution_count": null,
   "metadata": {},
   "outputs": [],
   "source": [
    "#2a Profit appears to be normally distributed"
   ]
  }
 ],
 "metadata": {
  "kernelspec": {
   "display_name": "Python 3",
   "language": "python",
   "name": "python3"
  },
  "language_info": {
   "codemirror_mode": {
    "name": "ipython",
    "version": 3
   },
   "file_extension": ".py",
   "mimetype": "text/x-python",
   "name": "python",
   "nbconvert_exporter": "python",
   "pygments_lexer": "ipython3",
   "version": "3.8.3"
  }
 },
 "nbformat": 4,
 "nbformat_minor": 2
}
