{
 "cells": [
  {
   "cell_type": "code",
   "execution_count": 3,
   "metadata": {},
   "outputs": [],
   "source": [
    "## Question 2\n",
    "import random as rd\n",
    "import numpy as np\n",
    "import matplotlib.pyplot as plt"
   ]
  },
  {
   "cell_type": "code",
   "execution_count": 4,
   "metadata": {},
   "outputs": [],
   "source": [
    "#input parameters\n",
    "num_room = 50\n",
    "rent_per_day = 105\n",
    "operational_cost = 45\n",
    "chance_notshowup = 0.1\n",
    "chance_showup = 1 - chance_notshowup\n",
    "overbook_refund = 105 + 150\n",
    "reservation_limit = 56"
   ]
  },
  {
   "cell_type": "code",
   "execution_count": 12,
   "metadata": {},
   "outputs": [
    {
     "data": {
      "text/plain": [
       "(array([  25.,  181.,  533., 1056.,    0., 1500., 1756., 1718., 2998.,\n",
       "         233.]),\n",
       " array([2100. , 2293.5, 2487. , 2680.5, 2874. , 3067.5, 3261. , 3454.5,\n",
       "        3648. , 3841.5, 4035. ]),\n",
       " <a list of 10 Patch objects>)"
      ]
     },
     "execution_count": 12,
     "metadata": {},
     "output_type": "execute_result"
    },
    {
     "data": {
      "image/png": "[encoded data removed]",
      "text/plain": [
       "<Figure size 432x288 with 1 Axes>"
      ]
     },
     "metadata": {
      "needs_background": "light"
     },
     "output_type": "display_data"
    }
   ],
   "source": [
    "# 2.a. \n",
    "# simulation trials \n",
    "rd.seed(101010)\n",
    "trials = 10000\n",
    "sample = list()\n",
    "for i in range (trials):\n",
    "    num_showup = 0\n",
    "    for c in range (reservation_limit):\n",
    "        p1 = rd.uniform(0,1)\n",
    "        if p1 < chance_showup: \n",
    "            num_showup += 1\n",
    "    if num_showup < num_room:\n",
    "        rented_room = num_showup\n",
    "        overbooks = 0\n",
    "    else:\n",
    "        rented_room = num_room\n",
    "        overbooks = num_showup - num_room\n",
    "    no_show =  reservation_limit - num_showup\n",
    "    showup_revenue = num_showup * rent_per_day\n",
    "    no_show_revenue = no_show * rent_per_day\n",
    "    operation_cost = rented_room * operational_cost\n",
    "    overbook_cost = overbooks * overbook_refund\n",
    "    total_cost = operation_cost + overbook_cost\n",
    "    total_revenue = showup_revenue + no_show_revenue\n",
    "    total_profit = total_revenue - total_cost\n",
    "    \n",
    "    sample.append(total_profit)\n",
    "                \n",
    "            \n",
    "plt.hist(sample, edgecolor = 'k')\n",
    "        "
   ]
  },
  {
   "cell_type": "code",
   "execution_count": 13,
   "metadata": {},
   "outputs": [
    {
     "name": "stdout",
     "output_type": "stream",
     "text": [
      "The estimate of the mean total profit is $3378.80\n"
     ]
    }
   ],
   "source": [
    "#2.b.\n",
    "sample_mean = np.mean(sample)\n",
    "print('The estimate of the mean total profit is $%5.2f' % sample_mean)"
   ]
  },
  {
   "cell_type": "code",
   "execution_count": 14,
   "metadata": {},
   "outputs": [
    {
     "name": "stdout",
     "output_type": "stream",
     "text": [
      "Margin of error =  6.25\n",
      "Lower confidence interval = 3372.55\n",
      "Upper confidence interval = 3385.05\n",
      "The 95% confidence interval for the sample mean is (3372.55, 3385.05)\n"
     ]
    }
   ],
   "source": [
    "#2.c. \n",
    "sample_mean = np.mean(sample)\n",
    "sample_std = np.std(sample)\n",
    "moe = 1.645*sample_std/len(sample)**0.5\n",
    "lci = sample_mean - moe\n",
    "uci = sample_mean + moe\n",
    "print('Margin of error = %5.2f'% moe)\n",
    "print('Lower confidence interval = %5.2f'% lci)\n",
    "print('Upper confidence interval = %5.2f'% uci)\n",
    "print('The 95%% confidence interval for the sample mean is (%6.2f, %6.2f)'% (lci,uci))"
   ]
  },
  {
   "cell_type": "code",
   "execution_count": 15,
   "metadata": {},
   "outputs": [
    {
     "name": "stdout",
     "output_type": "stream",
     "text": [
      "There is a  5.21% probability of making a profit of at least $3800 on one day.\n"
     ]
    }
   ],
   "source": [
    "#2.d.\n",
    "proportion = sum(1 for x in sample if x > 3800)/len(sample)\n",
    "print('There is a %5.2f%% probability of making a profit of at least $3800 on one day.'% (100*proportion))"
   ]
  },
  {
   "cell_type": "code",
   "execution_count": 16,
   "metadata": {},
   "outputs": [
    {
     "name": "stdout",
     "output_type": "stream",
     "text": [
      "The 95% confidence interval for the sample mean is (0.05, 0.05)\n"
     ]
    }
   ],
   "source": [
    "#2.e.\n",
    "moe = 1.96*(proportion *(1 - proportion)/len(sample)**0.5)\n",
    "lci = proportion - moe\n",
    "if lci < 0.0: lcl = 0.0\n",
    "uci = proportion + moe\n",
    "\n",
    "print('The 95%% confidence interval for the sample mean is (%4.2f, %4.2f)'% (lci,uci))"
   ]
  },
  {
   "cell_type": "code",
   "execution_count": 17,
   "metadata": {},
   "outputs": [
    {
     "name": "stdout",
     "output_type": "stream",
     "text": [
      "[50, 51, 52, 53, 54, 55, 56, 57, 58, 59]\n",
      "50\n",
      "51\n",
      "52\n",
      "53\n",
      "54\n",
      "55\n",
      "56\n",
      "57\n",
      "58\n",
      "59\n"
     ]
    },
    {
     "data": {
      "text/plain": [
       "[<matplotlib.lines.Line2D at 0x7ff18b5182e0>]"
      ]
     },
     "execution_count": 17,
     "metadata": {},
     "output_type": "execute_result"
    },
    {
     "data": {
      "image/png": "[encoded data removed]",
      "text/plain": [
       "<Figure size 432x288 with 1 Axes>"
      ]
     },
     "metadata": {
      "needs_background": "light"
     },
     "output_type": "display_data"
    }
   ],
   "source": [
    "#2.f.\n",
    "order_maximum = [50 + i for i in range (10)]\n",
    "print(order_maximum)\n",
    "mean_profit = list()\n",
    "trials = 10000\n",
    "sample = list()\n",
    "for current_order in order_maximum:\n",
    "    for i in range (trials):\n",
    "        num_showup = 0\n",
    "        for x in range(current_order):\n",
    "            p1 = rd.uniform(0,1)\n",
    "            if p1 < chance_showup: \n",
    "                num_showup +=1\n",
    "        if num_showup < num_room:\n",
    "            rented_room = num_showup\n",
    "            overbooks = 0\n",
    "        else:\n",
    "            rented_room = num_room\n",
    "            overbooks = num_showup - num_room\n",
    "        no_show =  reservation_limit - num_showup\n",
    "        showup_revenue = num_showup * rent_per_day\n",
    "        no_show_revenue = no_show * rent_per_day\n",
    "        operation_cost = rented_room * operational_cost\n",
    "        overbook_cost = overbooks * overbook_refund\n",
    "        total_cost = operation_cost + overbook_cost\n",
    "        total_revenue = showup_revenue + no_show_revenue\n",
    "        total_profit = total_revenue - total_cost\n",
    "        sample.append(total_profit)\n",
    "    profit_mean = np.mean(sample)\n",
    "        #print(current_order, i)\n",
    "    mean_profit.append(profit_mean)\n",
    "    print(current_order)\n",
    "plt.plot(order_maximum, mean_profit)        "
   ]
  },
  {
   "cell_type": "code",
   "execution_count": 18,
   "metadata": {},
   "outputs": [
    {
     "data": {
      "text/plain": [
       "50"
      ]
     },
     "execution_count": 18,
     "metadata": {},
     "output_type": "execute_result"
    }
   ],
   "source": [
    "order_maximum[mean_profit.index(max(mean_profit))]"
   ]
  },
  {
   "cell_type": "code",
   "execution_count": 19,
   "metadata": {},
   "outputs": [],
   "source": [
    "# Question 1\n",
    "import random as rd\n",
    "import numpy as np\n",
    "import matplotlib.pyplot as plt"
   ]
  },
  {
   "cell_type": "code",
   "execution_count": 20,
   "metadata": {},
   "outputs": [],
   "source": [
    "#input parameters\n",
    "num_homes = 20\n",
    "chance_someonehome = 0.8\n",
    "chance_purchase = 0.3\n",
    "purchase_mean = 25\n",
    "purchase_stdev = 5"
   ]
  },
  {
   "cell_type": "code",
   "execution_count": 21,
   "metadata": {},
   "outputs": [
    {
     "data": {
      "text/plain": [
       "(array([ 290., 1182., 2530., 2809., 1903.,  884.,  311.,   68.,   19.,\n",
       "           4.]),\n",
       " array([  0.        ,  35.21275169,  70.42550339, 105.63825508,\n",
       "        140.85100677, 176.06375846, 211.27651016, 246.48926185,\n",
       "        281.70201354, 316.91476523, 352.12751693]),\n",
       " <a list of 10 Patch objects>)"
      ]
     },
     "execution_count": 21,
     "metadata": {},
     "output_type": "execute_result"
    },
    {
     "data": {
      "image/png": "[encoded data removed]",
      "text/plain": [
       "<Figure size 432x288 with 1 Axes>"
      ]
     },
     "metadata": {
      "needs_background": "light"
     },
     "output_type": "display_data"
    }
   ],
   "source": [
    "#simulation trials\n",
    "rd.seed(101010)\n",
    "trials = 10000\n",
    "sample = list()\n",
    "for i in range (trials):\n",
    "    total_revenue = 0\n",
    "    for h in range (num_homes):\n",
    "        perc_someonehome = rd.uniform(0,1)\n",
    "        perc_purchase = rd.uniform(0,1)\n",
    "        if perc_someonehome <= chance_someonehome and perc_purchase < chance_purchase:\n",
    "            purchase = rd.normalvariate(purchase_mean, purchase_stdev)\n",
    "            total_revenue = total_revenue + purchase \n",
    "    \n",
    "    sample.append(total_revenue)\n",
    "    \n",
    "plt.hist(sample, edgecolor = 'k')"
   ]
  },
  {
   "cell_type": "code",
   "execution_count": 22,
   "metadata": {},
   "outputs": [
    {
     "name": "stdout",
     "output_type": "stream",
     "text": [
      "The total amount of revenue can be expected to generate from this neighborhood is $120.31\n"
     ]
    }
   ],
   "source": [
    "#1.a.\n",
    "print('The total amount of revenue can be expected to generate from this neighborhood is $%5.2f' % np.mean(sample))"
   ]
  },
  {
   "cell_type": "code",
   "execution_count": 23,
   "metadata": {},
   "outputs": [
    {
     "name": "stdout",
     "output_type": "stream",
     "text": [
      "Margin of error =  0.95\n",
      "Lower confidence interval = 119.35\n",
      "Upper confidence interval = 121.26\n"
     ]
    }
   ],
   "source": [
    "#1.b.\n",
    "sample_mean = np.mean(sample)\n",
    "sample_std = np.std(sample)\n",
    "moe = 1.96*sample_std/len(sample)**0.5\n",
    "lowerCI = sample_mean - moe\n",
    "upperCI = sample_mean + moe\n",
    "print('Margin of error = %5.2f'% moe)\n",
    "print('Lower confidence interval = %5.2f'% lowerCI)\n",
    "print('Upper confidence interval = %5.2f'% upperCI)"
   ]
  },
  {
   "cell_type": "code",
   "execution_count": 24,
   "metadata": {},
   "outputs": [
    {
     "name": "stdout",
     "output_type": "stream",
     "text": [
      "There is a  5.95% chance the nonprofit will collect more than $200\n"
     ]
    }
   ],
   "source": [
    "#1.c.\n",
    "proportion = 100*sum(1 for i in sample if i > 200.00)/len(sample)\n",
    "print('There is a %5.2f%% chance the nonprofit will collect more than $200' % proportion)"
   ]
  },
  {
   "cell_type": "code",
   "execution_count": 25,
   "metadata": {},
   "outputs": [
    {
     "name": "stdout",
     "output_type": "stream",
     "text": [
      "Lower confidence interval =   5.37%\n",
      "Upper confidence interval =   6.53%\n"
     ]
    }
   ],
   "source": [
    "#1.d. \n",
    "moe = 1.645*(proportion *(proportion)/len(sample)**0.5)\n",
    "lci = proportion - moe\n",
    "uci = proportion + moe\n",
    "print('Lower confidence interval = %6.2f%%'% lci)\n",
    "print('Upper confidence interval = %6.2f%%'% uci)"
   ]
  },
  {
   "cell_type": "code",
   "execution_count": null,
   "metadata": {},
   "outputs": [],
   "source": []
  }
 ],
 "metadata": {
  "kernelspec": {
   "display_name": "Python 3",
   "language": "python",
   "name": "python3"
  },
  "language_info": {
   "codemirror_mode": {
    "name": "ipython",
    "version": 3
   },
   "file_extension": ".py",
   "mimetype": "text/x-python",
   "name": "python",
   "nbconvert_exporter": "python",
   "pygments_lexer": "ipython3",
   "version": "3.8.3"
  }
 },
 "nbformat": 4,
 "nbformat_minor": 2
}
