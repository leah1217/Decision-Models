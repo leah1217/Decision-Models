{
 "cells": [
  {
   "cell_type": "markdown",
   "metadata": {},
   "source": [
    "__Simple Google Glop Optimization Example:__  _Sidneyville Manufacturing_"
   ]
  },
  {
   "cell_type": "code",
   "execution_count": 7,
   "metadata": {
    "scrolled": false
   },
   "outputs": [],
   "source": [
    "# import Glop LP solver package\n",
    "from ortools.linear_solver import pywraplp as glp   "
   ]
  },
  {
   "cell_type": "code",
   "execution_count": 8,
   "metadata": {},
   "outputs": [],
   "source": [
    "# initialize LP model object\n",
    "mymodel = glp.Solver('Sidneyville', glp.Solver.GLOP_LINEAR_PROGRAMMING)"
   ]
  },
  {
   "cell_type": "code",
   "execution_count": 9,
   "metadata": {},
   "outputs": [],
   "source": [
    "# define decision variables\n",
    "Roll_Top = mymodel.NumVar(0, mymodel.infinity(), 'Roll Top Desks')\n",
    "Regular = mymodel.NumVar(0, mymodel.infinity(), 'Regular Desks')"
   ]
  },
  {
   "cell_type": "code",
   "execution_count": 10,
   "metadata": {},
   "outputs": [],
   "source": [
    "# define objective function\n",
    "Profit = mymodel.Objective()\n",
    "Profit.SetCoefficient(Roll_Top, 115)\n",
    "Profit.SetCoefficient(Regular, 90)\n",
    "Profit.SetMaximization()"
   ]
  },
  {
   "cell_type": "code",
   "execution_count": 11,
   "metadata": {},
   "outputs": [],
   "source": [
    "# define wood constraints\n",
    "# Pine\n",
    "Pine = mymodel.Constraint(-mymodel.infinity(), 200)\n",
    "Pine.SetCoefficient(Roll_Top, 10)\n",
    "Pine.SetCoefficient(Regular, 20)\n",
    "# Cedar\n",
    "Cedar = mymodel.Constraint(-mymodel.infinity(), 128)\n",
    "Cedar.SetCoefficient(Roll_Top, 4)\n",
    "Cedar.SetCoefficient(Regular, 16)\n",
    "# Maple\n",
    "Maple = mymodel.Constraint(-mymodel.infinity(), 220)\n",
    "Maple.SetCoefficient(Roll_Top, 15)\n",
    "Maple.SetCoefficient(Regular, 10)"
   ]
  },
  {
   "cell_type": "code",
   "execution_count": 6,
   "metadata": {},
   "outputs": [
    {
     "name": "stdout",
     "output_type": "stream",
     "text": [
      "Number of variables = 2\n",
      "Number of constraints = 3\n",
      "Optimal Solution:\n",
      "Total Profit = 1740.00\n",
      "Roll_Tops = 12.00\n",
      "Regulars = 4.00\n",
      "Pine Dual Value = 1.00\n",
      "Cedar Dual Value = -0.00\n",
      "Maple Dual Value = 7.00\n"
     ]
    }
   ],
   "source": [
    "# Solve the model and print optimal solution\n",
    "mymodel.Solve()\n",
    "\n",
    "print('Number of variables =', mymodel.NumVariables())\n",
    "print('Number of constraints =', mymodel.NumConstraints())\n",
    "\n",
    "print('Optimal Solution:')\n",
    "print('Total Profit = %.2f' % Profit.Value())\n",
    "\n",
    "print('Roll_Tops = %.2f' % Roll_Top.solution_value())\n",
    "print('Regulars = %.2f' % Regular.solution_value())\n",
    "\n",
    "# marginal value (dual value) of the resources\n",
    "print('Pine Dual Value = %.2f' % Pine.dual_value())\n",
    "print('Cedar Dual Value = %.2f' % Cedar.dual_value())\n",
    "print('Maple Dual Value = %.2f' % Maple.dual_value())"
   ]
  },
  {
   "cell_type": "code",
   "execution_count": null,
   "metadata": {},
   "outputs": [],
   "source": []
  }
 ],
 "metadata": {
  "kernelspec": {
   "display_name": "Python 3",
   "language": "python",
   "name": "python3"
  },
  "language_info": {
   "codemirror_mode": {
    "name": "ipython",
    "version": 3
   },
   "file_extension": ".py",
   "mimetype": "text/x-python",
   "name": "python",
   "nbconvert_exporter": "python",
   "pygments_lexer": "ipython3",
   "version": "3.8.3"
  }
 },
 "nbformat": 4,
 "nbformat_minor": 2
}
