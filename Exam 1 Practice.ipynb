{
 "cells": [
  {
   "cell_type": "code",
   "execution_count": 1,
   "metadata": {},
   "outputs": [],
   "source": [
    "import random as rd\n",
    "import numpy as np\n",
    "import matplotlib.pyplot as plt"
   ]
  },
  {
   "cell_type": "code",
   "execution_count": 2,
   "metadata": {},
   "outputs": [],
   "source": [
    "##QUESTION 1\n",
    "#Suppose you are going on a weekend trip to a city that is d miles away.  Develop a model that determines your \n",
    "#round-trip gasoline costs.  What assumptions or approximations are necessary to make your model deterministic?  \n",
    "#Are these assumptions or approximations acceptable to you? \n",
    "    #a.  Draw an influence chart and build a model for this problem.  \n",
    "    #b.  Use your model to generate some relevant sensitivity analysis."
   ]
  },
  {
   "cell_type": "code",
   "execution_count": 3,
   "metadata": {},
   "outputs": [],
   "source": [
    "##QUESTION 2\n",
    "#Suppose we have the following mathematical model of a production systemmax10𝑥𝑥s.   \n",
    "#t.𝑎𝑎𝑥𝑥 ≤40𝑥𝑥 ≥0wherea is the number hours of production time required for each unit produced.  \n",
    "#With a = 5, the optimal solution is x= 8.  If we have a stochastic model with a = 3, a = 4, a = 5, and a = 6 \n",
    "#as the possible values for the number of hours required per unit, what is the optimal value for x?  \n",
    "#What challenges does this stochastic model cause?"
   ]
  },
  {
   "cell_type": "code",
   "execution_count": 4,
   "metadata": {},
   "outputs": [],
   "source": [
    "##QUESTION 3\n",
    "\n",
    "#Over a five year period, the quarterly change in the share price for a company ranged from -8% to 12%.  \n",
    "#The current share price is $80.00, and we would like to understand the distribution of this share price in two years \n",
    "#(eight quarters)."
   ]
  },
  {
   "cell_type": "code",
   "execution_count": 5,
   "metadata": {},
   "outputs": [],
   "source": [
    "#Parameters\n",
    "share_price = 80\n",
    "quarters = 8"
   ]
  },
  {
   "cell_type": "code",
   "execution_count": 6,
   "metadata": {},
   "outputs": [
    {
     "data": {
      "text/plain": [
       "(array([  56.,  641., 1940., 2764., 2336., 1418.,  615.,  181.,   41.,\n",
       "           8.]),\n",
       " array([ 51.36336001,  62.09740877,  72.83145752,  83.56550627,\n",
       "         94.29955502, 105.03360377, 115.76765252, 126.50170127,\n",
       "        137.23575002, 147.96979878, 158.70384753]),\n",
       " <a list of 10 Patch objects>)"
      ]
     },
     "execution_count": 6,
     "metadata": {},
     "output_type": "execute_result"
    },
    {
     "data": {
      "image/png": "[encoded data removed]",
      "text/plain": [
       "<Figure size 432x288 with 1 Axes>"
      ]
     },
     "metadata": {
      "needs_background": "light"
     },
     "output_type": "display_data"
    }
   ],
   "source": [
    "trials = 10000\n",
    "sample = list()\n",
    "for i in range (trials):\n",
    "    new_share_price = share_price\n",
    "    for q in range (quarters):\n",
    "        share_changed = rd.uniform(-0.08,0.12)\n",
    "        new_share_price = (1+share_changed) * new_share_price\n",
    "    sample.append(new_share_price)\n",
    "plt.hist(sample, edgecolor = 'k')\n",
    "    \n"
   ]
  },
  {
   "cell_type": "code",
   "execution_count": 7,
   "metadata": {},
   "outputs": [
    {
     "name": "stdout",
     "output_type": "stream",
     "text": [
      "Mean = $93.90, Std = $15.12\n"
     ]
    }
   ],
   "source": [
    "#3a.Using a sample size of 10,000 trials, generate a histogram of the share price at the end of two years.\n",
    "mean_share_price = np.mean(sample)\n",
    "std_share_price = np.std(sample)\n",
    "print('Mean = $%5.2f, Std = $%5.2f' % (mean_share_price, std_share_price))"
   ]
  },
  {
   "cell_type": "code",
   "execution_count": 8,
   "metadata": {},
   "outputs": [
    {
     "name": "stdout",
     "output_type": "stream",
     "text": [
      "Margin of error =  0.30\n",
      "Lower confidence interval = 93.60\n",
      "Upper confidence interval = 94.20\n",
      "The 95% confidence interval for the sample mean is ( 93.60,  94.20)\n"
     ]
    }
   ],
   "source": [
    "#3b.Estimate the expected share price at the end of 2 years and compute a 90% confidence interval for this estimate\n",
    "sample_mean = np.mean(sample)\n",
    "sample_std = np.std(sample)\n",
    "moe = 1.96*sample_std/len(sample)**0.5\n",
    "lci = sample_mean - moe\n",
    "uci = sample_mean + moe\n",
    "print('Margin of error = %5.2f'% moe)\n",
    "print('Lower confidence interval = %5.2f'% lci)\n",
    "print('Upper confidence interval = %5.2f'% uci)\n",
    "print('The 95%% confidence interval for the sample mean is (%6.2f, %6.2f)'% (lci,uci))"
   ]
  },
  {
   "cell_type": "code",
   "execution_count": 9,
   "metadata": {},
   "outputs": [
    {
     "name": "stdout",
     "output_type": "stream",
     "text": [
      "There is a 32.73% probability of making a profit of at least $100 on one day.\n",
      "The 95% confidence interval for the sample mean is (0.32, 0.33)\n"
     ]
    }
   ],
   "source": [
    "#3c.Estimate the probability the share value at the end of 2 years is at least $100 and compute a 95% confidence \n",
    "#interval for this probability estimate.\n",
    "proportion = sum(1 for x in sample if x > 100)/len(sample)\n",
    "print('There is a %5.2f%% probability of making a profit of at least $100 on one day.'% (100*proportion))\n",
    "\n",
    "moe = 1.96*(proportion *(1 - proportion)/len(sample)**0.5)\n",
    "lci = proportion - moe\n",
    "if lci < 0.0: lcl = 0.0\n",
    "uci = proportion + moe\n",
    "\n",
    "print('The 95%% confidence interval for the sample mean is (%4.2f, %4.2f)'% (lci,uci))"
   ]
  },
  {
   "cell_type": "code",
   "execution_count": 10,
   "metadata": {},
   "outputs": [],
   "source": [
    "##QUESTION 4\n",
    "#A company is considering the introduction of a new product.  The fixed cost to launch this product is $30,000.  \n",
    "#The variable cost for the product is uniformly distributed between $16 and $24 per unit.  \n",
    "#The product will sell for $50 per unit.  The demand for the product is normally distributed with a mean of 1,200 units \n",
    "#and a standard deviation of 300 units.  Construct a simulation model for this problem and use a sample size of 10,000 \n",
    "#trials to answer the following questions.\n",
    "    #a.  What is the distribution of the outcome from this new product launch? \n",
    "    #b.  What is your assessment of the associated risk? \n",
    "    "
   ]
  },
  {
   "cell_type": "code",
   "execution_count": 11,
   "metadata": {},
   "outputs": [],
   "source": [
    "#input paremeters\n"
   ]
  },
  {
   "cell_type": "code",
   "execution_count": 12,
   "metadata": {},
   "outputs": [],
   "source": [
    "##QUESTION 5\n",
    "\n",
    "#  A real estate investment firm purchases, develops, and then resells property for a profit.  \n",
    "#A new property is available which the firm believes could be resold at a price of $160,000.  \n",
    "#The current property owner has requested bids from the firm and two other competitors and will sell the property to \n",
    "#the highest bidder in 2 excess of $100,000.  Assume that the bids made by each of the two competitors will be \n",
    "#uniformly distributed from $100,000 to $150,000.  Construct a simulation model for this problem and use a sample size\n",
    "#of 10,000 trials to answer the following questions.\n",
    "    #d.  What is the expected value of perfect information for this problem "
   ]
  },
  {
   "cell_type": "code",
   "execution_count": 18,
   "metadata": {},
   "outputs": [],
   "source": [
    "house_price = 160000\n",
    "trials = 10000\n",
    "bid_firm = 130000\n",
    "bid_min = 100000\n",
    "bid_max = 150000"
   ]
  },
  {
   "cell_type": "code",
   "execution_count": 19,
   "metadata": {},
   "outputs": [
    {
     "data": {
      "text/plain": [
       "(array([ 757.,  691.,  732.,  692.,  680.,  604.,  584.,  571.,  546.,\n",
       "        4143.]),\n",
       " array([10001.15374077, 12001.03836669, 14000.92299261, 16000.80761854,\n",
       "        18000.69224446, 20000.57687038, 22000.46149631, 24000.34612223,\n",
       "        26000.23074815, 28000.11537408, 30000.        ]),\n",
       " <a list of 10 Patch objects>)"
      ]
     },
     "execution_count": 19,
     "metadata": {},
     "output_type": "execute_result"
    },
    {
     "data": {
      "image/png": "[encoded data removed]",
      "text/plain": [
       "<Figure size 432x288 with 1 Axes>"
      ]
     },
     "metadata": {
      "needs_background": "light"
     },
     "output_type": "display_data"
    }
   ],
   "source": [
    "#simulation \n",
    "rd.seed(101010)\n",
    "trials = 10000\n",
    "sample = list()\n",
    "index = [0 for i in range(trials)]\n",
    "for i in range (trials):\n",
    "    bid_ofthefirm = bid_firm\n",
    "    bid_competitor_1 = rd.uniform(bid_min,bid_max)\n",
    "    bid_competitor_2 = rd.uniform(bid_min,bid_max)\n",
    "    bid_win = max (bid_firm, bid_competitor_1, bid_competitor_2)\n",
    "    if bid_win == bid_ofthefirm:\n",
    "        index[i]=1\n",
    "    else: \n",
    "        index[i]=0\n",
    "    profit = house_price - bid_win\n",
    "    sample.append(profit)\n",
    "\n",
    "plt.hist(sample, edgecolor = 'k')    \n"
   ]
  },
  {
   "cell_type": "code",
   "execution_count": 21,
   "metadata": {},
   "outputs": [
    {
     "name": "stdout",
     "output_type": "stream",
     "text": [
      "The probability the firm will win the bidding process if it offers $130000 is 36.38%\n",
      "Lower confidence interval = 61.61%\n",
      "Upper confidence interval = 11.15%\n"
     ]
    }
   ],
   "source": [
    "##a.What is the probability the firm will win the bidding process if it offers $130,000 for the new property? \n",
    "    #Provide a 95% confidence interval for your estimate.\n",
    "    \n",
    "proportion = 100*sum(1 for i in index if i >= 1.0)/len(index)\n",
    "print('The probability the firm will win the bidding process if it offers $130000 is %5.2f%%' % proportion)\n",
    "\n",
    "proportion = 100*sum(1 for i in index if i >= 1.0)/len(index)\n",
    "moe = 1.96*(proportion *(1 - proportion)/len(sample)**0.5)\n",
    "lci = proportion - moe\n",
    "uci = proportion + moe\n",
    "print('Lower confidence interval = %5.2f%%'% lci)\n",
    "print('Upper confidence interval = %5.2f%%'% uci)"
   ]
  },
  {
   "cell_type": "code",
   "execution_count": 23,
   "metadata": {},
   "outputs": [
    {
     "name": "stdout",
     "output_type": "stream",
     "text": [
      "The probability the firm will win the bidding process if it offers $140000 is 30.57%\n"
     ]
    }
   ],
   "source": [
    "##b.  What is the bid amount the firm should offer to achieve at least a 90% probability of winning the bid?\n",
    "\n",
    "new_bid_firm = 127500\n",
    "rd.seed(101010)\n",
    "trials = (10000)\n",
    "sample = list()\n",
    "index = [0 for i in range (trials)]\n",
    "for i in range (trials):\n",
    "    bid_ofthefirm = new_bid_firm\n",
    "    bid_competitor_1 = rd.uniform(bid_min, bid_max)\n",
    "    bid_competitor_2 = rd.uniform(bid_min, bid_max)\n",
    "    bid_win = max(bid_ofthefirm, bid_competitor_1, bid_competitor_2)\n",
    "    if bid_win == bid_ofthefirm:\n",
    "        index[i]=1\n",
    "    else: \n",
    "        index[i]=0\n",
    "    profit = house_price - bid_win\n",
    "    sample.append(profit)\n",
    "\n",
    "proportion = 100*sum(1 for i in index if i >= 1.0)/len(index)\n",
    "print('The probability the firm will win the bidding process if it offers $140000 is %5.2f%%' % proportion)"
   ]
  },
  {
   "cell_type": "code",
   "execution_count": 26,
   "metadata": {},
   "outputs": [
    {
     "data": {
      "text/plain": [
       "[<matplotlib.lines.Line2D at 0x7f95df0d05e0>]"
      ]
     },
     "execution_count": 26,
     "metadata": {},
     "output_type": "execute_result"
    },
    {
     "data": {
      "image/png": "[encoded data removed]",
      "text/plain": [
       "<Figure size 432x288 with 1 Axes>"
      ]
     },
     "metadata": {
      "needs_background": "light"
     },
     "output_type": "display_data"
    }
   ],
   "source": [
    "##c.  What is the bid amount the firm should offer to maximize its expected profit? \n",
    "\n",
    "bid_maximum = [x*1000 for x in range(130,161)]\n",
    "rd.seed(101010)\n",
    "mean_profit = list()\n",
    "trials = (10000)\n",
    "sample = list()\n",
    "index = [0 for i in range (trials)]\n",
    "for bid in bid_maximum:\n",
    "    for i in range (trials):\n",
    "        bid_ofthefirm = bid\n",
    "        bid_competitor_1 = rd.uniform(bid_min, bid_max)\n",
    "        bid_competitor_2 = rd.uniform(bid_min, bid_max)\n",
    "        bid_win = max(bid_ofthefirm, bid_competitor_1, bid_competitor_2)\n",
    "        if bid_win == bid_ofthefirm:\n",
    "            profit = house_price - bid_win\n",
    "            sample.append(profit)\n",
    "    profit_mean = np.mean(sample)\n",
    "    mean_profit.append(profit_mean)\n",
    "\n",
    "plt.plot(bid_maximum, mean_profit)"
   ]
  },
  {
   "cell_type": "code",
   "execution_count": 27,
   "metadata": {},
   "outputs": [
    {
     "data": {
      "text/plain": [
       "130000"
      ]
     },
     "execution_count": 27,
     "metadata": {},
     "output_type": "execute_result"
    }
   ],
   "source": [
    "bid_maximum[mean_profit.index(max(mean_profit))]"
   ]
  },
  {
   "cell_type": "code",
   "execution_count": null,
   "metadata": {},
   "outputs": [],
   "source": [
    "##QUESTION 6\n",
    "\n",
    "# wedding planner must give the caterer an estimated number of guests for a wedding reception. \n",
    "#The probability that a guest responds to the RSVP invitationfor the wedding is 30%.  A guest who responds has a 90% \n",
    "#probability of actually attending the reception.  A guest who does not respond to the invitation has a 50% probability \n",
    "#of attending the reception. \n",
    "   #a.  If 300 guests were invited, what is the probability that at least 200 attend the reception?\n",
    "  #b.  How many guests would you suggest the wedding planner estimate for the caterer and why? "
   ]
  },
  {
   "cell_type": "code",
   "execution_count": 32,
   "metadata": {},
   "outputs": [],
   "source": [
    "#input parameters\n",
    "\n",
    "resp_per = 0.3\n",
    "resp_attend_per = 0.9\n",
    "notresp_attend_per = 0.5\n",
    "guests_invited = 300\n",
    "min_attend_guests = 200"
   ]
  },
  {
   "cell_type": "code",
   "execution_count": 41,
   "metadata": {},
   "outputs": [
    {
     "data": {
      "text/plain": [
       "(array([2.000e+00, 4.900e+01, 3.900e+02, 1.132e+03, 2.686e+03, 3.192e+03,\n",
       "        1.733e+03, 6.860e+02, 1.200e+02, 1.000e+01]),\n",
       " array([151. , 157.7, 164.4, 171.1, 177.8, 184.5, 191.2, 197.9, 204.6,\n",
       "        211.3, 218. ]),\n",
       " <a list of 10 Patch objects>)"
      ]
     },
     "execution_count": 41,
     "metadata": {},
     "output_type": "execute_result"
    },
    {
     "data": {
      "image/png": "[encoded data removed]",
      "text/plain": [
       "<Figure size 432x288 with 1 Axes>"
      ]
     },
     "metadata": {
      "needs_background": "light"
     },
     "output_type": "display_data"
    }
   ],
   "source": [
    "# simulation trials\n",
    "rd.seed(101010)\n",
    "trials = 10000\n",
    "sample = list()\n",
    "for i in range (trials):\n",
    "    total_attend = 0\n",
    "    for g in range (guests_invited):\n",
    "        p1 = rd.uniform(0,1) #probability a guest responds to the invitation\n",
    "        p2 = rd.uniform(0,1) #probability a guest responds and then shows up\n",
    "        p3 = rd.uniform(0,1) #probability a guest doesn't respond, but then shows up\n",
    "        if p1 <= resp_per: \n",
    "            if p2 <= resp_attend_per:\n",
    "                total_attend += 1\n",
    "        else:\n",
    "            if p3 <= notresp_attend_per:\n",
    "                total_attend += 1\n",
    "                \n",
    "    sample.append(total_attend)\n",
    "    \n",
    "plt.hist(sample, edgecolor = 'k')\n",
    "        "
   ]
  },
  {
   "cell_type": "code",
   "execution_count": 46,
   "metadata": {},
   "outputs": [
    {
     "name": "stdout",
     "output_type": "stream",
     "text": [
      " The mean is 186 guests\n",
      "The probability at least 200 people attend the reception is  4.18%\n"
     ]
    }
   ],
   "source": [
    "#problem a:\n",
    "sample_mean = np.mean(sample)\n",
    "print(' The mean is %3.0f guests' % sample_mean)\n",
    "proportion = sum(1 for x in sample if x > 200)/len(sample)\n",
    "print('The probability at least 200 people attend the reception is %5.2f%%' % (100*proportion))"
   ]
  },
  {
   "cell_type": "code",
   "execution_count": 47,
   "metadata": {},
   "outputs": [
    {
     "name": "stdout",
     "output_type": "stream",
     "text": [
      "Margin of error =  0.22\n",
      "Lower confidence interval = 185.76\n",
      "Upper confidence interval = 186.19\n",
      "The 99% confidence for the sample mean is (185.76, 186.19)\n",
      "answers may vary: the probability of exceeding 205 guests is less than 1%; the probability of exceeding 220 guests is virtually zero.\n"
     ]
    }
   ],
   "source": [
    "#problem b:\n",
    "sample_mean = np.mean(sample)\n",
    "sample_std = np.std(sample)\n",
    "moe = 2.576*sample_std/len(sample)**0.5\n",
    "lci = sample_mean - moe\n",
    "uci = sample_mean + moe\n",
    "print('Margin of error = %5.2f'% moe)\n",
    "print('Lower confidence interval = %5.2f'% lci)\n",
    "print('Upper confidence interval = %5.2f'% uci)\n",
    "print('The 99%% confidence for the sample mean is (%6.2f, %6.2f)'% (lci,uci))\n",
    "\n",
    "print('answers may vary: the probability of exceeding 205 guests is less than 1%; the probability of exceeding 220 guests is virtually zero.')"
   ]
  },
  {
   "cell_type": "code",
   "execution_count": null,
   "metadata": {},
   "outputs": [],
   "source": []
  }
 ],
 "metadata": {
  "kernelspec": {
   "display_name": "Python 3",
   "language": "python",
   "name": "python3"
  },
  "language_info": {
   "codemirror_mode": {
    "name": "ipython",
    "version": 3
   },
   "file_extension": ".py",
   "mimetype": "text/x-python",
   "name": "python",
   "nbconvert_exporter": "python",
   "pygments_lexer": "ipython3",
   "version": "3.8.3"
  }
 },
 "nbformat": 4,
 "nbformat_minor": 4
}
