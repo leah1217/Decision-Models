{
 "cells": [
  {
   "cell_type": "code",
   "execution_count": 1,
   "metadata": {},
   "outputs": [],
   "source": [
    "#A fundraiser is planning to call 20 potential donors. The probability that a\n",
    "#potential donor answers the phone is 40%, and if they answer the phone the\n",
    "#probability that they make a contribution is 50%. The amount of each\n",
    "#contribution is normally distributed with a mean of $200 and a standard\n",
    "#deviation of $50. The fundraiser’s goal is to raise $1,000 from these calls. Use\n",
    "#10,000 simulation trials in your analysis.\n",
    "#a. What is the expected (sample mean) total contributions from these calls?\n",
    "#b. What is the sample standard deviation?\n",
    "#c. Compute a 95% confidence interval for the mean of the total contributions.\n",
    "#d. What is the probability that the fundraiser reaches the goal of $1,000?"
   ]
  },
  {
   "cell_type": "code",
   "execution_count": 1,
   "metadata": {},
   "outputs": [],
   "source": [
    "import random as rd\n",
    "import numpy as np\n",
    "import matplotlib.pyplot as plt"
   ]
  },
  {
   "cell_type": "code",
   "execution_count": 4,
   "metadata": {},
   "outputs": [],
   "source": [
    "#input parameters\n",
    "donors =20\n",
    "pr_answer = 0.40\n",
    "pr_donate = 0.50\n",
    "donation_mean =200.00\n",
    "donation_std =50.00"
   ]
  },
  {
   "cell_type": "code",
   "execution_count": 5,
   "metadata": {},
   "outputs": [],
   "source": [
    "#simulation trials\n",
    "trials = 10000\n",
    "sample = list()\n",
    "for i in range(trials):\n",
    "    tot_donations = 0.0\n",
    "    for d in range(donors):\n",
    "        p1 = rd.uniform(0,1)\n",
    "        p2 = rd.uniform(0,1)\n",
    "        if p1 < pr_answer:\n",
    "            if p2 < pr_donate:\n",
    "                donation = rd.normalvariate(donation_mean,donation_std)\n",
    "                tot_donations = tot_donations + donation\n",
    "    sample.append(tot_donations)"
   ]
  },
  {
   "cell_type": "code",
   "execution_count": 6,
   "metadata": {},
   "outputs": [
    {
     "data": {
      "text/plain": [
       "(array([ 587., 1488., 2428., 2374., 1744.,  881.,  334.,  117.,   37.,\n",
       "          10.]),\n",
       " array([   0.        ,  241.94204106,  483.88408212,  725.82612318,\n",
       "         967.76816425, 1209.71020531, 1451.65224637, 1693.59428743,\n",
       "        1935.53632849, 2177.47836955, 2419.42041061]),\n",
       " <a list of 10 Patch objects>)"
      ]
     },
     "execution_count": 6,
     "metadata": {},
     "output_type": "execute_result"
    },
    {
     "data": {
      "image/png": "[encoded data removed]",
      "text/plain": [
       "<Figure size 432x288 with 1 Axes>"
      ]
     },
     "metadata": {
      "needs_background": "light"
     },
     "output_type": "display_data"
    }
   ],
   "source": [
    "plt.hist(sample,edgecolor='k')"
   ]
  },
  {
   "cell_type": "code",
   "execution_count": 9,
   "metadata": {},
   "outputs": [
    {
     "name": "stdout",
     "output_type": "stream",
     "text": [
      "Mean =800.17\n",
      "St.Dev. = 373.57\n"
     ]
    }
   ],
   "source": [
    "print('Mean =%5.2f' % np.mean(sample))\n",
    "print('St.Dev. = %5.2f' %np.std(sample))"
   ]
  },
  {
   "cell_type": "code",
   "execution_count": 14,
   "metadata": {},
   "outputs": [
    {
     "name": "stdout",
     "output_type": "stream",
     "text": [
      "The 95% confidence interval for the mean total donation is (792.85,807.49)\n"
     ]
    }
   ],
   "source": [
    "sample_mean = np.mean(sample)\n",
    "sample_std = np.std(sample)\n",
    "moe = 1.96*sample_std/len(sample)**0.5\n",
    "lcl = sample_mean - moe\n",
    "ucl = sample_mean + moe\n",
    "print('The 95%% confidence interval for the mean total donation is (%6.2f,%6.2f)'%(lcl,ucl))"
   ]
  },
  {
   "cell_type": "code",
   "execution_count": 13,
   "metadata": {},
   "outputs": [
    {
     "name": "stdout",
     "output_type": "stream",
     "text": [
      "There is a 28.39% chance of raising at least $1000.\n"
     ]
    }
   ],
   "source": [
    "proportion = sum(1 for x in sample if x > 1000)/len(sample)\n",
    "print('There is a %5.2f%% chance of raising at least $1000.'%(100*proportion))"
   ]
  },
  {
   "cell_type": "code",
   "execution_count": null,
   "metadata": {},
   "outputs": [],
   "source": []
  }
 ],
 "metadata": {
  "kernelspec": {
   "display_name": "Python 3",
   "language": "python",
   "name": "python3"
  },
  "language_info": {
   "codemirror_mode": {
    "name": "ipython",
    "version": 3
   },
   "file_extension": ".py",
   "mimetype": "text/x-python",
   "name": "python",
   "nbconvert_exporter": "python",
   "pygments_lexer": "ipython3",
   "version": "3.8.3"
  }
 },
 "nbformat": 4,
 "nbformat_minor": 4
}
